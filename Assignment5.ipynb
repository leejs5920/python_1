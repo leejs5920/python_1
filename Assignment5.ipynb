{
 "cells": [
  {
   "cell_type": "markdown",
   "metadata": {},
   "source": [
    "#Assignment 5"
   ]
  },
  {
   "cell_type": "markdown",
   "metadata": {},
   "source": [
    "#####1. 클래스와 모듈의 공통점과 차이점에 대해 설명하시오."
   ]
  },
  {
   "cell_type": "markdown",
   "metadata": {},
   "source": [
    "공통점 : 정의된 항목을 캡슐화하는 참조형식\n",
    "\n",
    "차이점 : 클래스는 개체로 인스턴스화 될 수 있지만 모듈은 개체로 인스턴스화될 수 없다."
   ]
  },
  {
   "cell_type": "markdown",
   "metadata": {},
   "source": [
    "#####2. 다형성에 대해 설명하고 다형성을 보여주는 자신만의 파이썬 코드 예제를 제시하시오."
   ]
  },
  {
   "cell_type": "code",
   "execution_count": 1,
   "metadata": {
    "collapsed": false
   },
   "outputs": [
    {
     "name": "stdout",
     "output_type": "stream",
     "text": [
      "멍멍\n",
      "꽥꽥\n",
      "...\n"
     ]
    }
   ],
   "source": [
    "class Animal:\n",
    "    def cry(self):\n",
    "        print '...'\n",
    "        \n",
    "class Dog(Animal):\n",
    "    def cry(self):\n",
    "        print '멍멍'\n",
    "        \n",
    "class Duck(Animal):\n",
    "    def cry(self):\n",
    "        print '꽥꽥'\n",
    "        \n",
    "class Fish(Animal):\n",
    "    pass\n",
    "\n",
    "for each in (Dog(), Duck(), Fish()):\n",
    "    each.cry()\n"
   ]
  },
  {
   "cell_type": "markdown",
   "metadata": {},
   "source": [
    "###### 3. 다음 각 요구사항을 모두 만적시키는 Counter 클래스를 코딩하시오(정답을 각 요구사항 별로 입력할 필요 없이 3번 문제에 대한 1개의 클래스 정의 코드를 제시하면 된다.)"
   ]
  },
  {
   "cell_type": "code",
   "execution_count": 2,
   "metadata": {
    "collapsed": false
   },
   "outputs": [
    {
     "name": "stdout",
     "output_type": "stream",
     "text": [
      "<<요구 사항 2번 출력>>\n",
      "[Count (step : 1)] \n",
      "10\n",
      "[Count (step : 2)] \n",
      "10\n",
      "<<요구 사항  3번 출력>>\n",
      "[Count (step : 1)] \n",
      "11\n",
      "[Count (step : 2)] \n",
      "12\n",
      "요구 사항 4번 출력\n",
      "[Count (step : 1)] \n",
      "12\n",
      "[Count (step : 2)] \n",
      "14\n",
      "요구 사항 5번 출력\n",
      "[Count (step : 1)] \n",
      "12\n",
      "[Count (step : 2)] \n",
      "14\n",
      "요구 사항 6번 출력\n",
      "True\n",
      "True\n",
      "False\n",
      "False\n",
      "False\n",
      "True\n"
     ]
    }
   ],
   "source": [
    "# -*- coding: utf-8 -*-\n",
    "class Counter:\n",
    "    def __init__(self, count, step = 1):\n",
    "        self.step = step\n",
    "        self.count = count\n",
    "        \n",
    "    def incr(self):\n",
    "        self.count += self.step\n",
    "        \n",
    "    def __str__(self):\n",
    "        print \"[Count (step : %d)] \" % int(self.step)\n",
    "        return str(self.count)\n",
    "    \n",
    "    def __call__(self):\n",
    "        self.incr()\n",
    "        \n",
    "    def __add__(self, other):\n",
    "        return self.operatorHelper(other, \"+\")\n",
    "    \n",
    "    def __sub__(self, other):\n",
    "        return self.operatorHelper(other, \"-\")\n",
    "    \n",
    "    def operatorHelper(self, other, code):\n",
    "        try:\n",
    "            if type(self) == type(other):\n",
    "                exec (compile (\"self.value %s = other.value\" % code, '<string>', 'single'))\n",
    "                exec (compile (\"self.step %s = other.value\" % code, '<string>', 'single'))\n",
    "            else:\n",
    "                (compile (\"self.count %s = int(other)\" % code, '<string>', 'single'))\n",
    "        except:\n",
    "            pass\n",
    "        return self\n",
    "    \n",
    "    def __cmp__(self, other):\n",
    "        count = other;\n",
    "        \n",
    "        try :\n",
    "            if type(self) == type(other):\n",
    "                count = other.count\n",
    "            else:\n",
    "                count = int(other)\n",
    "        except:\n",
    "            pass\n",
    "        \n",
    "        return cmp(self.count, count)\n",
    "    \n",
    "\n",
    "#1번\n",
    "c = Counter(10)\n",
    "d = Counter(10, 2)\n",
    "\n",
    "#2번\n",
    "print \"<<요구 사항 2번 출력>>\"\n",
    "print c\n",
    "print d\n",
    "\n",
    "#3번\n",
    "c.incr()\n",
    "d.incr()\n",
    "print \"<<요구 사항  3번 출력>>\"\n",
    "print c\n",
    "print d\n",
    "\n",
    "#4번\n",
    "c()\n",
    "d()\n",
    "print \"요구 사항 4번 출력\"\n",
    "print c\n",
    "print d\n",
    "\n",
    "#5번\n",
    "c = c+5\n",
    "d = d-5\n",
    "print \"요구 사항 5번 출력\"\n",
    "print c\n",
    "print d\n",
    "\n",
    "#6번\n",
    "print \"요구 사항 6번 출력\"\n",
    "print c>10\n",
    "print d>10\n",
    "print c<10\n",
    "print d<10\n",
    "print c == 17\n",
    "print d!= 9"
   ]
  },
  {
   "cell_type": "markdown",
   "metadata": {},
   "source": [
    "#####4. 다음은 내장 자료형 list를 서브클래싱하여 만든 MySet클래스 정의 내용이다. 다음 클래서 정의에서 __init__(), __str__(), elimicate_duplicate()의 세 개의 메소드 코드 내용을 자신이 다른 사람에게 가르친다고 생각하며 설명해보시오.\n",
    "\n",
    "--- MySet은 집합(Set) 자료형을 정의하려는 의도하에 만들어진 클래스이다."
   ]
  },
  {
   "cell_type": "markdown",
   "metadata": {},
   "source": [
    "answer)\n",
    "\n",
    "- __init__을 사용하여 생성자를 정의함으러써 필요한 기능만을 새로 정의한다.\n",
    "\n",
    "- __str__ 은 객체의 비공식적인 문자열 표현으로 사용자가 보기 편한 형태로 자유롭게 표현될 수 있다.\n",
    "\n",
    "- elimicate_duplicate은 정적메소드이다. 클래스 이름 공간에 존재하는 메소드로서 클래스 이름을 이용하여 직접 호출할 수 있는 메소드이다. 동일한 원서가 반복되어 출력되지 않도록 하는 역할을 한다."
   ]
  },
  {
   "cell_type": "code",
   "execution_count": 2,
   "metadata": {
    "collapsed": false
   },
   "outputs": [
    {
     "name": "stdout",
     "output_type": "stream",
     "text": [
      "MySet: {1 ,2 ,3}\n",
      "MySet: {2 ,3 ,4 ,5 ,6 ,7 ,8 ,9}\n"
     ]
    }
   ],
   "source": [
    "class MySet(list):\n",
    "    def __init__(self, l):\n",
    "        for e in l:\n",
    "            self.append(e)\n",
    "        MySet.eliminate_duplicate(self)\n",
    "    \n",
    "    def __str__(self):\n",
    "        result = \"MySet: {\"\n",
    "        for e in self:\n",
    "            result = result + str(e) + \" ,\"\n",
    "        result = result[0:len(result)-2] + \"}\"\n",
    "        return result\n",
    "\n",
    "    @staticmethod    \n",
    "    def eliminate_duplicate(l):\n",
    "        s = []\n",
    "        for e in l:\n",
    "            if e not in s:\n",
    "                s.append(e)\n",
    "        l[:] = []\n",
    "        for e in s:\n",
    "            l.append(e)\n",
    "            \n",
    "    def __or__(self, b):\n",
    "        return self.l | b\n",
    "\n",
    "    \n",
    "if __name__ == \"__main__\":\n",
    "    s = MySet([1, 2, 2, 3])\n",
    "    print s\n",
    "    t = MySet([2, 3, 4, 5, 6, 7, 8, 8, 8, 8, 8, 9])\n",
    "    print t\n",
    "    \n",
    "    "
   ]
  },
  {
   "cell_type": "markdown",
   "metadata": {},
   "source": [
    "#####5번"
   ]
  },
  {
   "cell_type": "code",
   "execution_count": 11,
   "metadata": {
    "collapsed": false
   },
   "outputs": [
    {
     "name": "stdout",
     "output_type": "stream",
     "text": [
      "요구사항 1번 출력\n",
      "MySet: {1 ,2 ,3 ,4 ,5 ,6 ,7 ,8 ,9}\n",
      "\n",
      "\n",
      "요구사항 2번 출력\n",
      "MySet: {2 ,3}\n",
      "\n",
      "\n",
      "요구사항 3번 출력\n",
      "MySet: {1 ,2}\n"
     ]
    }
   ],
   "source": [
    "import copy\n",
    "\n",
    "class MySet(list):\n",
    "    def __init__(self, l):\n",
    "        for e in l:\n",
    "            self.append(e)\n",
    "        MySet.eliminate_duplicate(self)\n",
    "    \n",
    "    def __str__(self):\n",
    "        result = \"MySet: {\"\n",
    "        for e in self:\n",
    "            result = result + str(e) + \" ,\"\n",
    "        result = result[0:len(result)-2] + \"}\"\n",
    "        return result\n",
    "\n",
    "    @staticmethod    \n",
    "    def eliminate_duplicate(l):\n",
    "        s = []\n",
    "        for e in l:\n",
    "            if e not in s:\n",
    "                s.append(e)\n",
    "        l[:] = []\n",
    "        for e in s:\n",
    "            l.append(e)\n",
    "    \n",
    "    def __or__(self, other):\n",
    "        return MySet(self + other)\n",
    "    \n",
    "    def __and__(self, other):\n",
    "        s = []\n",
    "        for e in other:\n",
    "            if e in self:\n",
    "                s.append(e)\n",
    "        return MySet(s)\n",
    "    \n",
    "    def __sub__(self, other):\n",
    "        s = copy.deepcopy(self)\n",
    "        \n",
    "        for e in self:\n",
    "            if e in other:\n",
    "                s.remove(e)\n",
    "                \n",
    "        return MySet(s)\n",
    "    \n",
    "    \n",
    "#1\n",
    "print \"요구사항 1번 출력\"\n",
    "s = MySet([1, 2, 2, 3])\n",
    "t = MySet([2, 3, 4, 5, 6, 7, 8, 8, 8, 8, 8, 9])\n",
    "s = s|t\n",
    "print s\n",
    "print\n",
    "print \n",
    "#2\n",
    "print \"요구사항 2번 출력\"\n",
    "s = MySet([1, 2, 2, 3])\n",
    "t = MySet([2, 3, 4, 5, 6, 7, 8, 8, 8, 8, 8, 9])\n",
    "u = s&t\n",
    "print u\n",
    "print\n",
    "print \n",
    "#3\n",
    "print \"요구사항 3번 출력\"\n",
    "s = MySet([1, 2, 3])\n",
    "t = MySet([3, 4, 5])\n",
    "u = s-t\n",
    "print u\n",
    "\n",
    "    \n",
    "    "
   ]
  },
  {
   "cell_type": "markdown",
   "metadata": {},
   "source": [
    "##### 6. 5번 문제에서 정의한 MySet 클래스에 대해 다음 예제를 수행하면 오류없이 올바르게 동작하는 것을 확인할 수 있다. 다음 예제 내에 있는 len(), bool() 내장함수와 in 키워드 사용 예제가 별다른 메소드 정의를 하지 않았는 데도 올바르게 수행되는 이유를 설명하시오."
   ]
  },
  {
   "cell_type": "markdown",
   "metadata": {},
   "source": [
    "list를 상속받았기 때문이다. 그래서 별다른 구현을 하지 않았음에도 불구하고 list의 기능을 사용할 수 있는 것이다."
   ]
  },
  {
   "cell_type": "markdown",
   "metadata": {},
   "source": [
    "#####7. [프로젝트 오일러 문제16]"
   ]
  },
  {
   "cell_type": "code",
   "execution_count": 10,
   "metadata": {
    "collapsed": false
   },
   "outputs": [
    {
     "name": "stdout",
     "output_type": "stream",
     "text": [
      "1366\n"
     ]
    }
   ],
   "source": [
    "a = 2**1000\n",
    "\n",
    "b = list(str(a))\n",
    "sum=0\n",
    "\n",
    "for i in b:\n",
    "    sum = sum+int(i)\n",
    "print sum\n",
    "\n",
    "\n"
   ]
  },
  {
   "cell_type": "markdown",
   "metadata": {},
   "source": [
    "#####8. [프로젝트 오일러17]"
   ]
  },
  {
   "cell_type": "code",
   "execution_count": 13,
   "metadata": {
    "collapsed": false
   },
   "outputs": [
    {
     "name": "stdout",
     "output_type": "stream",
     "text": [
      "21124\n"
     ]
    }
   ],
   "source": [
    "l=[]\n",
    "l.append('')\n",
    "l.append('one')\n",
    "l.append('two')\n",
    "l.append('three')\n",
    "l.append('four')\n",
    "l.append('five')\n",
    "l.append('six')\n",
    "l.append('seven')\n",
    "l.append('eight')\n",
    "l.append('nine')\n",
    "l.append('ten')\n",
    "l.append('eleven')\n",
    "l.append('twelve')\n",
    "l.append('thirteen')\n",
    "l.append('fourteen')\n",
    "l.append('fifteen')\n",
    "l.append('sixteen')\n",
    "l.append('seventeen')\n",
    "l.append('eighteen')\n",
    "l.append('nineteen')\n",
    "l.append('twenty')\n",
    "for i in range(1,10):\n",
    "    l.append(l[20]+l[i])\n",
    "l.append('thirty')\n",
    "for i in range(1,10):\n",
    "    l.append(l[30]+l[i])\n",
    "l2=[]\n",
    "sum=0\n",
    "for i in range(40,1001):\n",
    "    ss=''\n",
    "    num=i\n",
    "    if num < 100:\n",
    "        if num < 60 and num >=50:\n",
    "            ss='fifty'+l[int(str(num)[1:2])]\n",
    "        elif num < 90 and num >=80:\n",
    "            ss='eighty'+l[int(str(num)[1:2])]\n",
    "        elif num < 50 and num >=40:\n",
    "            ss='forty'+l[int(str(num)[1:2])]\n",
    "        else:\n",
    "            ss=l[int(str(num)[0])]+'ty'+l[int(str(num)[1:2])]\n",
    "    elif num < 1000:\n",
    "        ss=l[int(str(num)[0])]+'hundredand'+l[int(str(num)[1:3])]\n",
    "\n",
    "        if num%100 ==0 :\n",
    "            ss=ss[:len(ss)-3]\n",
    "    else:\n",
    "        ss=l[int(str(num)[0])]+'thousand'+l[int(str(num)[1:4])]\n",
    "    l.append(ss)\n",
    "\n",
    "for i in range(1,1001):\n",
    "    sum += (len(l[i]))\n",
    "\n",
    "print sum"
   ]
  },
  {
   "cell_type": "markdown",
   "metadata": {},
   "source": [
    "#####9. [프로젝트 오일러 18]"
   ]
  },
  {
   "cell_type": "code",
   "execution_count": 15,
   "metadata": {
    "collapsed": false
   },
   "outputs": [
    {
     "name": "stdout",
     "output_type": "stream",
     "text": [
      "1074\n"
     ]
    }
   ],
   "source": [
    "numbers = \"\"\"\n",
    "75\n",
    "95 64\n",
    "17 47 82\n",
    "18 35 87 10\n",
    "20 04 82 47 65\n",
    "19 01 23 75 03 34\n",
    "88 02 77 73 07 63 67\n",
    "99 65 04 28 06 16 70 92\n",
    "41 41 26 56 83 40 80 70 33\n",
    "41 48 72 33 47 32 37 16 94 29\n",
    "53 71 44 65 25 43 91 52 97 51 14\n",
    "70 11 33 28 77 73 17 78 39 68 17 57\n",
    "91 71 52 38 17 14 91 43 58 50 27 29 48\n",
    "63 66 04 68 89 53 67 30 73 16 69 87 40 31\n",
    "04 62 98 27 23 09 70 98 73 93 38 53 60 04 23\n",
    "\"\"\".strip().splitlines()\n",
    "\n",
    "numbers = list(map(lambda line:\n",
    "            list(map(lambda x: int(x), line.split(' ')))\n",
    "        , numbers))\n",
    "\n",
    "rows = len(numbers)\n",
    "for row in range(1,rows):\n",
    "    for i in range(len(numbers[row])):\n",
    "        numbers[row][i] += max(\n",
    "            numbers[row-1][i-1] if i > 0 else 0,\n",
    "            numbers[row-1][i] if i < len(numbers[row])-1 else 0\n",
    "        )\n",
    "\n",
    "print(max(numbers[rows-1]))"
   ]
  },
  {
   "cell_type": "markdown",
   "metadata": {},
   "source": [
    "#####10. [프로젝트 오일러 19]"
   ]
  },
  {
   "cell_type": "code",
   "execution_count": 17,
   "metadata": {
    "collapsed": false
   },
   "outputs": [
    {
     "name": "stdout",
     "output_type": "stream",
     "text": [
      "171\n"
     ]
    }
   ],
   "source": [
    "import calendar\n",
    "print(len([(y,m) for y in range(1901, 2001) for m in range(1,13) if calendar.monthrange(y,m)[0] is 6]))"
   ]
  },
  {
   "cell_type": "markdown",
   "metadata": {},
   "source": [
    "#####11.[프로젝트 오일러20]"
   ]
  },
  {
   "cell_type": "code",
   "execution_count": 18,
   "metadata": {
    "collapsed": false
   },
   "outputs": [
    {
     "name": "stdout",
     "output_type": "stream",
     "text": [
      "648\n"
     ]
    }
   ],
   "source": [
    "import math\n",
    "def main():\n",
    "    sum = 0\n",
    "    for i in str(math.factorial(100)):\n",
    "        sum += int(i)\n",
    "    return sum\n",
    "print main()"
   ]
  },
  {
   "cell_type": "markdown",
   "metadata": {},
   "source": [
    "#####12.[프로젝트 오일러 21]"
   ]
  },
  {
   "cell_type": "code",
   "execution_count": 12,
   "metadata": {
    "collapsed": false
   },
   "outputs": [
    {
     "name": "stdout",
     "output_type": "stream",
     "text": [
      "31626\n"
     ]
    }
   ],
   "source": [
    "k=0\n",
    "curd=1\n",
    "div=[]\n",
    "box=[0]\n",
    "yes=[]\n",
    "for n in range(1,10001):\n",
    "    while curd**2<n:\n",
    "        if n%curd==0:\n",
    "            div.append(curd)\n",
    "            div.append(n/curd)\n",
    "        curd=curd+1\n",
    "    if curd**2==n:\n",
    "        div.append(curd)\n",
    "    box.append(sum(div)-n)\n",
    "    div=[]\n",
    "    curd=1\n",
    "for i in range(1,10000):\n",
    "    if 0<box[i]<10000 and box[i]!=i:\n",
    "        k=box[i]\n",
    "        if box[int(k)]==i:\n",
    "            yes.append(i)\n",
    "print(sum(yes))"
   ]
  },
  {
   "cell_type": "markdown",
   "metadata": {},
   "source": [
    "#####13"
   ]
  },
  {
   "cell_type": "code",
   "execution_count": 18,
   "metadata": {
    "collapsed": false
   },
   "outputs": [],
   "source": [
    "import string\n",
    "import urllib\n",
    "import re\n",
    "\n",
    "class WebWordsFrequency():\n",
    "    def __init__(self, *argv):\n",
    "        self.urlList = list(argv)\n",
    "        self.frquency = dict()\n",
    "        \n",
    "    def addUrl(self, urls):\n",
    "        self.urlList.append(urls)\n",
    "        \n",
    "    def removeUrl(self, urls):\n",
    "        self.urlList.remove(urls)\n",
    "        \n",
    "    def __str__(self):\n",
    "        return str(self.urlList)\n",
    "    \n",
    "    def listUrls(self):\n",
    "        for x in self.urlList:\n",
    "            print x\n",
    "            \n",
    "    def getMaxFrequencyWords(self):\n",
    "        for x in self.urlList:\n",
    "            self.urlParser(x)\n",
    "        wordList = self.frequency.keys()\n",
    "        s = list()\n",
    "        for word in wordList:\n",
    "            s.append([word, self.frequency[word]])\n",
    "        s.sort(self.mycmp)\n",
    "        \n",
    "        maxValue = s[0][1]\n",
    "        i = 0\n",
    "        size = len(s)\n",
    "        while maxValue == s[i][1] and i < size:\n",
    "            print s[i][0]\n",
    "            i += 1\n",
    "            \n",
    "    def mycmp(self, a1, a2):\n",
    "        return cmp(a2[1], a1[1])\n",
    "    \n",
    "    def myPrint(self, dic):\n",
    "        print '{',\n",
    "        key = dic.keys()\n",
    "        for x in key:\n",
    "            print \" '%s' : %s,\" % (x, dic.get(x)),\n",
    "            print '}'\n",
    "            \n",
    "    def getWordsFrequency(self):\n",
    "        for x in self.urlList:\n",
    "            self.urlParser(x)\n",
    "        self.myPrint(self.frequency)\n",
    "        \n",
    "    #def urlParser(self, URL):\n",
    "    \n",
    "w1 = WebWordsFrequency('http://www.daum.net',  'http://www.daum.net', 'http://www.daum.net')"
   ]
  },
  {
   "cell_type": "markdown",
   "metadata": {},
   "source": [
    "#####14"
   ]
  },
  {
   "cell_type": "code",
   "execution_count": 17,
   "metadata": {
    "collapsed": false
   },
   "outputs": [],
   "source": [
    "import string\n",
    "import urllib\n",
    "import re\n",
    "\n",
    "class WebWordsFrequency():\n",
    "    def __init__(self, *argv):\n",
    "        self.urlList = list(argv)\n",
    "        self.frquency = dict()\n",
    "        \n",
    "    def addUrl(self, urls):\n",
    "        self.urlList.append(urls)\n",
    "        \n",
    "    def removeUrl(self, urls):\n",
    "        self.urlList.remove(urls)\n",
    "        \n",
    "    def __str__(self):\n",
    "        return str(self.urlList)\n",
    "    \n",
    "    def listUrls(self):\n",
    "        for x in self.urlList:\n",
    "            print x\n",
    "            \n",
    "    def getMaxFrequencyWords(self):\n",
    "        for x in self.urlList:\n",
    "            self.urlParser(x)\n",
    "        wordList = self.frequency.keys()\n",
    "        s = list()\n",
    "        for word in wordList:\n",
    "            s.append([word, self.frequency[word]])\n",
    "        s.sort(self.mycmp)\n",
    "        \n",
    "        maxValue = s[0][1]\n",
    "        i = 0\n",
    "        size = len(s)\n",
    "        while maxValue == s[i][1] and i < size:\n",
    "            print s[i][0]\n",
    "            i += 1\n",
    "            \n",
    "    def mycmp(self, a1, a2):\n",
    "        return cmp(a2[1], a1[1])\n",
    "    \n",
    "    def myPrint(self, dic):\n",
    "        print '{',\n",
    "        key = dic.keys()\n",
    "        for x in key:\n",
    "            print \" '%s' : %s,\" % (x, dic.get(x)),\n",
    "            print '}'\n",
    "            \n",
    "    def getWordsFrequency(self):\n",
    "        for x in self.urlList:\n",
    "            self.urlParser(x)\n",
    "        self.myPrint(self.frequency)\n",
    "        \n",
    "    #def urlParser(self, URL):\n",
    "    \n",
    "w1 = WebWordsFrequency('http://www.daum.net',  'http://www.daum.net', 'http://www.daum.net')"
   ]
  },
  {
   "cell_type": "markdown",
   "metadata": {},
   "source": [
    "#####15"
   ]
  },
  {
   "cell_type": "markdown",
   "metadata": {
    "collapsed": true
   },
   "source": [
    "고찰 : 벌써 마지막 과제를 제출할 떄가 됐다는 것이 실감이 안난다. "
   ]
  },
  {
   "cell_type": "code",
   "execution_count": null,
   "metadata": {
    "collapsed": true
   },
   "outputs": [],
   "source": []
  }
 ],
 "metadata": {
  "kernelspec": {
   "display_name": "Python 2",
   "language": "python",
   "name": "python2"
  },
  "language_info": {
   "codemirror_mode": {
    "name": "ipython",
    "version": 2
   },
   "file_extension": ".py",
   "mimetype": "text/x-python",
   "name": "python",
   "nbconvert_exporter": "python",
   "pygments_lexer": "ipython2",
   "version": "2.7.9"
  }
 },
 "nbformat": 4,
 "nbformat_minor": 0
}
